{
 "cells": [
  {
   "cell_type": "code",
   "execution_count": 21,
   "metadata": {},
   "outputs": [
    {
     "name": "stdout",
     "output_type": "stream",
     "text": [
      "Welcome to the Number Guessing Game!\n",
      "This number is not in your range. Try Again.\n",
      "This number is not in your range. Try Again.\n",
      "5 is too low. Try Again.\n",
      "8 is too high. Try Again.\n",
      "6 is the correct number. Well Done!\n"
     ]
    }
   ],
   "source": [
    "import random\n",
    "\n",
    "print(\"Welcome to the Number Guessing Game!\")\n",
    "\n",
    "while True:\n",
    "    lower_limit = int(input(\"Enter the lower limit of the range: \"))\n",
    "    upper_limit = int(input(\"Enter the upper limit of the range: \"))\n",
    "\n",
    "    if lower_limit < upper_limit:\n",
    "        break\n",
    "    else:\n",
    "        print('Enter a valid range.')\n",
    "\n",
    "random_number = random.randint(lower_limit, upper_limit)\n",
    "\n",
    "while True:\n",
    "    guess = int(input(f'Guess the number between {lower_limit} and {upper_limit}: '))\n",
    "\n",
    "    if lower_limit <= guess <= upper_limit:\n",
    "\n",
    "        if guess == random_number:\n",
    "            print(f'{guess} is the correct number. Well Done!')\n",
    "            break\n",
    "        elif guess < random_number:\n",
    "            print(f'{guess} is too low. Try Again.')\n",
    "        else:\n",
    "            print(f'{guess} is too high. Try Again.')\n",
    "    else:\n",
    "        print('This number is not in your range. Try Again.')\n",
    "\n"
   ]
  },
  {
   "cell_type": "code",
   "execution_count": null,
   "metadata": {},
   "outputs": [],
   "source": []
  }
 ],
 "metadata": {
  "kernelspec": {
   "display_name": "Python 3",
   "language": "python",
   "name": "python3"
  },
  "language_info": {
   "codemirror_mode": {
    "name": "ipython",
    "version": 3
   },
   "file_extension": ".py",
   "mimetype": "text/x-python",
   "name": "python",
   "nbconvert_exporter": "python",
   "pygments_lexer": "ipython3",
   "version": "3.10.2"
  },
  "orig_nbformat": 4
 },
 "nbformat": 4,
 "nbformat_minor": 2
}
